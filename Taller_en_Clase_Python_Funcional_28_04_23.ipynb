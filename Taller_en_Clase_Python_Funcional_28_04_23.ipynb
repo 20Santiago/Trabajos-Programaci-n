{
  "nbformat": 4,
  "nbformat_minor": 0,
  "metadata": {
    "colab": {
      "provenance": [],
      "authorship_tag": "ABX9TyPHUc1vQERA5F5zOpWuE6s9",
      "include_colab_link": true
    },
    "kernelspec": {
      "name": "python3",
      "display_name": "Python 3"
    },
    "language_info": {
      "name": "python"
    }
  },
  "cells": [
    {
      "cell_type": "markdown",
      "metadata": {
        "id": "view-in-github",
        "colab_type": "text"
      },
      "source": [
        "<a href=\"https://colab.research.google.com/github/20Santiago/Trabajos-Programaci-n/blob/master/Taller_en_Clase_Python_Funcional_28_04_23.ipynb\" target=\"_parent\"><img src=\"https://colab.research.google.com/assets/colab-badge.svg\" alt=\"Open In Colab\"/></a>"
      ]
    },
    {
      "cell_type": "code",
      "execution_count": 33,
      "metadata": {
        "id": "2G7kucY3--rC"
      },
      "outputs": [],
      "source": [
        "L=[[\"Alice\", 0, 3],\n",
        "  [\"Bob\", 1, 2],\n",
        "  [\"Alice\", 3, 1],\n",
        "  [\"Alice\", 8, 0],\n",
        "  [\"Bob\", 3, 2]]"
      ]
    },
    {
      "cell_type": "code",
      "source": [
        "print(list(filter(lambda x: x[0] == \"Bob\", L)))"
      ],
      "metadata": {
        "colab": {
          "base_uri": "https://localhost:8080/"
        },
        "id": "MRhut9Z2_jw_",
        "outputId": "3b8adb37-66d2-427b-aa39-96369f6adfbb"
      },
      "execution_count": 7,
      "outputs": [
        {
          "output_type": "stream",
          "name": "stdout",
          "text": [
            "[['Bob', 1, 2], ['Bob', 3, 2]]\n"
          ]
        }
      ]
    },
    {
      "cell_type": "markdown",
      "source": [
        "**Para la primera:** Escriba un programa en Python para triplicar todos los números en una lista dada de enteros"
      ],
      "metadata": {
        "id": "N_z7iXXNEeNq"
      }
    },
    {
      "cell_type": "code",
      "source": [
        "# Definir la lista de enteros\n",
        "lista_enteros = [1, 2, 3, 4, 5]\n",
        "\n",
        "# Definir una función que triplica un número\n",
        "def triplicar(num):\n",
        "    return num * 3\n",
        "\n",
        "# Aplicar la función a cada elemento de la lista\n",
        "lista_triplicada = list(map(triplicar, lista_enteros))\n",
        "\n",
        "# Imprimir la lista modificada\n",
        "print(lista_triplicada)\n"
      ],
      "metadata": {
        "colab": {
          "base_uri": "https://localhost:8080/"
        },
        "id": "PxNFwSEUB6y6",
        "outputId": "2c1913b6-4e71-477a-a88a-de9882560011"
      },
      "execution_count": 8,
      "outputs": [
        {
          "output_type": "stream",
          "name": "stdout",
          "text": [
            "[3, 6, 9, 12, 15]\n"
          ]
        }
      ]
    },
    {
      "cell_type": "markdown",
      "source": [
        "**Para la segunda:** Escriba un programa de Python para agregar tres listas dadas.\n"
      ],
      "metadata": {
        "id": "27WoLRrXE5fW"
      }
    },
    {
      "cell_type": "code",
      "source": [
        "# Definir las tres listas\n",
        "lista1 = [1, 2, 3]\n",
        "lista2 = [4, 5, 6]\n",
        "lista3 = [7, 8, 9]\n",
        "\n",
        "# Agregar los elementos de las tres listas a una cuarta lista\n",
        "lista_completa = []\n",
        "lista_completa.extend(lista1)\n",
        "lista_completa.extend(lista2)\n",
        "lista_completa.extend(lista3)\n",
        "\n",
        "# Imprimir la lista resultante\n",
        "print(lista_completa)\n"
      ],
      "metadata": {
        "colab": {
          "base_uri": "https://localhost:8080/"
        },
        "id": "Vn-Acm2xE7nt",
        "outputId": "f505b884-bd46-4ec8-d283-73bc1438a240"
      },
      "execution_count": 9,
      "outputs": [
        {
          "output_type": "stream",
          "name": "stdout",
          "text": [
            "[1, 2, 3, 4, 5, 6, 7, 8, 9]\n"
          ]
        }
      ]
    },
    {
      "cell_type": "markdown",
      "source": [
        "**Para la tercera:** Escriba un programa de Python para listar la lista de cadenas dadas individualmente.\n"
      ],
      "metadata": {
        "id": "BIIn9gjCE9DY"
      }
    },
    {
      "cell_type": "code",
      "source": [
        "# Definir la lista de cadenas\n",
        "lista_cadenas = [\"Soy\", \"Santiago,\", \"el\", \"gran\", \"baterista.\"]\n",
        "\n",
        "# Concatenar las cadenas de la lista en una sola cadena separada por un espacio\n",
        "cadena_completa = \" \".join(lista_cadenas)\n",
        "\n",
        "# Imprimir la cadena resultante\n",
        "print(cadena_completa)\n"
      ],
      "metadata": {
        "colab": {
          "base_uri": "https://localhost:8080/"
        },
        "id": "T1disCOJE_7M",
        "outputId": "84388139-8d97-4adf-9754-2afdd173932a"
      },
      "execution_count": 12,
      "outputs": [
        {
          "output_type": "stream",
          "name": "stdout",
          "text": [
            "Soy Santiago, el gran baterista.\n"
          ]
        }
      ]
    },
    {
      "cell_type": "markdown",
      "source": [
        "**Para la cuarta:** Escriba un programa en Python para crear una lista que contenga la potencia de dicho número en bases elevadas al número correspondiente en el índice."
      ],
      "metadata": {
        "id": "7ot7Nw4gFzUH"
      }
    },
    {
      "cell_type": "code",
      "source": [
        "potencias_de_dos = [2**i for i in range(10)]\n",
        "print(potencias_de_dos)\n"
      ],
      "metadata": {
        "colab": {
          "base_uri": "https://localhost:8080/"
        },
        "id": "Ige0F8agFzso",
        "outputId": "61cd4c01-4510-410e-a017-a8ee9e251493"
      },
      "execution_count": 13,
      "outputs": [
        {
          "output_type": "stream",
          "name": "stdout",
          "text": [
            "[1, 2, 4, 8, 16, 32, 64, 128, 256, 512]\n"
          ]
        }
      ]
    },
    {
      "cell_type": "markdown",
      "source": [
        "**Para la quinta:** Escriba un programa Python para cuadrar los elementos de una lista."
      ],
      "metadata": {
        "id": "xim2hz-3F0J-"
      }
    },
    {
      "cell_type": "code",
      "source": [
        "numeros = [2, 4, 6, 8, 10]\n",
        "cuadrados = [numero**2 for numero in numeros]\n",
        "print(cuadrados)\n"
      ],
      "metadata": {
        "colab": {
          "base_uri": "https://localhost:8080/"
        },
        "id": "wmTnfTDWF0cf",
        "outputId": "e5b1e5c6-aafc-4b58-cf38-a4e7397a8730"
      },
      "execution_count": 14,
      "outputs": [
        {
          "output_type": "stream",
          "name": "stdout",
          "text": [
            "[4, 16, 36, 64, 100]\n"
          ]
        }
      ]
    },
    {
      "cell_type": "markdown",
      "source": [
        "**Para la sexta:** Escriba un programa en Python para convertir todos los caracteres en mayúsculas y minúsculas y eliminar las letras duplicadas de una secuencia determinada."
      ],
      "metadata": {
        "id": "0uHJhKZ7F0og"
      }
    },
    {
      "cell_type": "code",
      "source": [
        "secuencia = \"Hola Santi\"\n",
        "mayusculas = secuencia.upper()\n",
        "minusculas = secuencia.lower()\n",
        "sin_duplicados = \"\".join(set(secuencia))\n",
        "\n",
        "print(\"Secuencia original:\", secuencia)\n",
        "print(\"Secuencia en mayúsculas:\", mayusculas)\n",
        "print(\"Secuencia en minúsculas:\", minusculas)\n",
        "print(\"Secuencia sin letras duplicadas:\", sin_duplicados)\n"
      ],
      "metadata": {
        "colab": {
          "base_uri": "https://localhost:8080/"
        },
        "id": "uUJU8eKmF0ya",
        "outputId": "2eb79bb3-b8b0-4173-d694-1dbed99e639f"
      },
      "execution_count": 32,
      "outputs": [
        {
          "output_type": "stream",
          "name": "stdout",
          "text": [
            "Secuencia original: Hola Santi\n",
            "Secuencia en mayúsculas: HOLA SANTI\n",
            "Secuencia en minúsculas: hola santi\n",
            "Secuencia sin letras duplicadas: lH niSato\n"
          ]
        }
      ]
    },
    {
      "cell_type": "markdown",
      "source": [
        "**Para la séptima:** Escriba un programa Python para agregar dos listas dadas y encontrar la diferencia entre ellas."
      ],
      "metadata": {
        "id": "F0sTRGn1It5i"
      }
    },
    {
      "cell_type": "code",
      "source": [
        "lista1 = [1, 2, 3, 4, 5]\n",
        "lista2 = [6, 7, 8, 9, 10]\n",
        "\n",
        "suma = [a + b for a, b in zip(lista1, lista2)]\n",
        "diferencia = [a - b for a, b in zip(lista1, lista2)]\n",
        "\n",
        "print(\"La suma de las listas es:\", suma)\n",
        "print(\"La diferencia entre las listas es:\", diferencia)\n"
      ],
      "metadata": {
        "colab": {
          "base_uri": "https://localhost:8080/"
        },
        "id": "NN1lxzjwIuM0",
        "outputId": "8143e934-0ca1-40c9-d1cf-d423b308ce81"
      },
      "execution_count": 15,
      "outputs": [
        {
          "output_type": "stream",
          "name": "stdout",
          "text": [
            "La suma de las listas es: [7, 9, 11, 13, 15]\n",
            "La diferencia entre las listas es: [-5, -5, -5, -5, -5]\n"
          ]
        }
      ]
    },
    {
      "cell_type": "markdown",
      "source": [
        "**Para la octava:** Escriba un programa en Python para convertir una lista dada de enteros y una tupla de enteros en una lista de cadenas."
      ],
      "metadata": {
        "id": "7Q89BOfZIuYq"
      }
    },
    {
      "cell_type": "code",
      "source": [
        "lista_enteros = [1, 2, 3, 4, 5]\n",
        "tupla_enteros = (6, 7, 8, 9, 10)\n",
        "\n",
        "# Convertir la lista de enteros en una lista de cadenas\n",
        "lista_cadenas = list(map(str, lista_enteros))\n",
        "\n",
        "# Convertir la tupla de enteros en una lista de cadenas\n",
        "tupla_cadenas = list(map(str, tupla_enteros))\n",
        "\n",
        "# Combinar las listas de cadenas\n",
        "lista_final = lista_cadenas + tupla_cadenas\n",
        "\n",
        "print(lista_final)\n"
      ],
      "metadata": {
        "colab": {
          "base_uri": "https://localhost:8080/"
        },
        "id": "KWPXeOzWIupD",
        "outputId": "7e1466b6-7f37-4a44-f774-20999667fc2d"
      },
      "execution_count": 21,
      "outputs": [
        {
          "output_type": "stream",
          "name": "stdout",
          "text": [
            "['1', '2', '3', '4', '5', '6', '7', '8', '9', '10']\n"
          ]
        }
      ]
    },
    {
      "cell_type": "markdown",
      "source": [
        "**Para la novena:** Escriba un programa de Python para crear una nueva lista que tome elementos específicos de una tupla y convierta un valor de cadena en un número entero."
      ],
      "metadata": {
        "id": "6fUIxO4KIux0"
      }
    },
    {
      "cell_type": "code",
      "source": [
        "tupla = (\"12\", \"34\", \"56\", \"78\", \"90\")\n",
        "\n",
        "# Crear una nueva lista con los elementos específicos de la tupla convertidos en números enteros\n",
        "nueva_lista = [int(tupla[0]), int(tupla[2]), int(tupla[4])]\n",
        "\n",
        "print(nueva_lista)\n"
      ],
      "metadata": {
        "colab": {
          "base_uri": "https://localhost:8080/"
        },
        "id": "Pv5jOb44Iu9-",
        "outputId": "80e446e1-44a6-49f3-f82b-b1ae9d7461bd"
      },
      "execution_count": 20,
      "outputs": [
        {
          "output_type": "stream",
          "name": "stdout",
          "text": [
            "[12, 56, 90]\n"
          ]
        }
      ]
    },
    {
      "cell_type": "markdown",
      "source": [
        "**Para la décima:** Escriba un programa en Python para calcular el cuadrado de los primeros N números de Fibonacci y genere una lista de los números."
      ],
      "metadata": {
        "id": "H_doVP5bIvHn"
      }
    },
    {
      "cell_type": "code",
      "source": [
        "def fibonacci_squares(n):\n",
        "    fib = [0, 1]\n",
        "    squares = []\n",
        "    for i in range(2, n+1):\n",
        "        fib.append(fib[i-1] + fib[i-2])\n",
        "    for num in fib:\n",
        "        squares.append(num ** 2)\n",
        "    return squares\n",
        "\n",
        "n = int(input(\"Ingrese un número: \"))\n",
        "fib_squares = fibonacci_squares(n)\n",
        "print(\"Los cuadrados de los primeros\", n, \"números de Fibonacci son:\", fib_squares)\n"
      ],
      "metadata": {
        "colab": {
          "base_uri": "https://localhost:8080/"
        },
        "id": "Lj5PkB0pIvT2",
        "outputId": "f3a2a252-b514-4c68-a8cf-f9bfe352e020"
      },
      "execution_count": 25,
      "outputs": [
        {
          "output_type": "stream",
          "name": "stdout",
          "text": [
            "Ingrese un número: 5\n",
            "Los cuadrados de los primeros 5 números de Fibonacci son: [0, 1, 1, 4, 9, 25]\n"
          ]
        }
      ]
    },
    {
      "cell_type": "markdown",
      "source": [
        "**Para el número once:** Escriba un programa en Python para calcular la suma de los elementos de una matriz de enteros.\n"
      ],
      "metadata": {
        "id": "ExXg_BUnLYBP"
      }
    },
    {
      "cell_type": "code",
      "source": [
        "def sum_matrix(matrix):\n",
        "    total = 0\n",
        "    for row in matrix:\n",
        "        for num in row:\n",
        "            total += num\n",
        "    return total\n",
        "\n",
        "# Ejemplo de matriz de enteros\n",
        "matrix = [[1, 2, 3], [4, 5, 6], [7, 8, 9]]\n",
        "sum_of_matrix = sum_matrix(matrix)\n",
        "print(\"La suma de los elementos de la matriz es:\", sum_of_matrix)\n"
      ],
      "metadata": {
        "colab": {
          "base_uri": "https://localhost:8080/"
        },
        "id": "5lyno9fbLYL4",
        "outputId": "eac82a4a-42d2-40a9-950d-a297c0bfcf56"
      },
      "execution_count": 26,
      "outputs": [
        {
          "output_type": "stream",
          "name": "stdout",
          "text": [
            "La suma de los elementos de la matriz es: 45\n"
          ]
        }
      ]
    },
    {
      "cell_type": "markdown",
      "source": [
        "**Para el número doce:** Escriba un programa en Python para encontrar la razón de números positivos, números negativos y ceros en una matriz de enteros.\n"
      ],
      "metadata": {
        "id": "8mcEcAbyLYUd"
      }
    },
    {
      "cell_type": "code",
      "source": [
        "def ratios_matrix(matrix):\n",
        "    num_positive = 0\n",
        "    num_negative = 0\n",
        "    num_zero = 0\n",
        "    total_elements = 0\n",
        "    for row in matrix:\n",
        "        for num in row:\n",
        "            if num > 0:\n",
        "                num_positive += 1\n",
        "            elif num < 0:\n",
        "                num_negative += 1\n",
        "            else:\n",
        "                num_zero += 1\n",
        "            total_elements += 1\n",
        "    ratio_positive = num_positive / total_elements\n",
        "    ratio_negative = num_negative / total_elements\n",
        "    ratio_zero = num_zero / total_elements\n",
        "    return (ratio_positive, ratio_negative, ratio_zero)\n",
        "\n",
        "# Ejemplo de matriz de enteros\n",
        "matrix = [[1, -2, 0], [4, 5, -6], [-7, 8, 9]]\n",
        "ratios = ratios_matrix(matrix)\n",
        "print(\"La razón de números positivos, negativos y ceros en la matriz es:\", ratios)\n"
      ],
      "metadata": {
        "colab": {
          "base_uri": "https://localhost:8080/"
        },
        "id": "d0v5e1sRLYdC",
        "outputId": "eab43171-f21e-4a4f-dbc7-37910545fd77"
      },
      "execution_count": 27,
      "outputs": [
        {
          "output_type": "stream",
          "name": "stdout",
          "text": [
            "La razón de números positivos, negativos y ceros en la matriz es: (0.5555555555555556, 0.3333333333333333, 0.1111111111111111)\n"
          ]
        }
      ]
    },
    {
      "cell_type": "markdown",
      "source": [
        "**Para el número trece:** Escriba un programa Python para intercalar dos listas en otra lista al azar."
      ],
      "metadata": {
        "id": "aVvZxbdRLYkG"
      }
    },
    {
      "cell_type": "code",
      "source": [
        "import random\n",
        "\n",
        "def intercalate_lists(list1, list2):\n",
        "    result = []\n",
        "    while len(list1) > 0 and len(list2) > 0:\n",
        "        if random.random() < 0.5:\n",
        "            result.append(list1.pop(0))\n",
        "        else:\n",
        "            result.append(list2.pop(0))\n",
        "    result.extend(list1)\n",
        "    result.extend(list2)\n",
        "    return result\n",
        "\n",
        "# Ejemplo de listas a intercalar\n",
        "list1 = [1, 3, 5, 7, 9]\n",
        "list2 = [2, 4, 6, 8, 10]\n",
        "\n",
        "# Intercalemos las dos listas\n",
        "intercalated = intercalate_lists(list1, list2)\n",
        "print(\"La lista intercalada es:\", intercalated)\n"
      ],
      "metadata": {
        "colab": {
          "base_uri": "https://localhost:8080/"
        },
        "id": "-2L0XDDBLYsf",
        "outputId": "2c12cc69-ae05-4b88-c62f-8e636e64db03"
      },
      "execution_count": 28,
      "outputs": [
        {
          "output_type": "stream",
          "name": "stdout",
          "text": [
            "La lista intercalada es: [2, 1, 3, 5, 4, 6, 7, 9, 8, 10]\n"
          ]
        }
      ]
    },
    {
      "cell_type": "markdown",
      "source": [
        "**Para el número catorce:** Escriba un programa Python para dividir un diccionario dado de listas en una lista de diccionarios utilizando la función de map."
      ],
      "metadata": {
        "id": "mJTUIKTiLYz-"
      }
    },
    {
      "cell_type": "code",
      "source": [
        "def split_dict_to_list(dict_to_split):\n",
        "    keys = list(dict_to_split.keys())\n",
        "    values = list(map(list, dict_to_split.values()))\n",
        "    num_dicts = len(values[0])\n",
        "    list_of_dicts = [{} for _ in range(num_dicts)]\n",
        "    for i in range(num_dicts):\n",
        "        for j, key in enumerate(keys):\n",
        "            list_of_dicts[i][key] = values[j][i]\n",
        "    return list_of_dicts\n",
        "\n",
        "# Ejemplo de diccionario a dividir\n",
        "dict_to_split = {'a': [1, 2, 3], 'b': [4, 5, 6], 'c': [7, 8, 9]}\n",
        "\n",
        "# Dividamos el diccionario en una lista de diccionarios\n",
        "list_of_dicts = split_dict_to_list(dict_to_split)\n",
        "print(\"La lista de diccionarios resultante es:\")\n",
        "for dict_item in list_of_dicts:\n",
        "    print(dict_item)\n"
      ],
      "metadata": {
        "colab": {
          "base_uri": "https://localhost:8080/"
        },
        "id": "wMGizmniLY7y",
        "outputId": "371089e0-8e4b-4541-8c88-86ef72e09031"
      },
      "execution_count": 29,
      "outputs": [
        {
          "output_type": "stream",
          "name": "stdout",
          "text": [
            "La lista de diccionarios resultante es:\n",
            "{'a': 1, 'b': 4, 'c': 7}\n",
            "{'a': 2, 'b': 5, 'c': 8}\n",
            "{'a': 3, 'b': 6, 'c': 9}\n"
          ]
        }
      ]
    },
    {
      "cell_type": "markdown",
      "source": [
        "\n",
        "**Para la quince:** Escriba un programa en Python para convertir una lista dada de cadenas en una lista de listas usando la función map.\n",
        "\n",
        "\n"
      ],
      "metadata": {
        "id": "YwwQXWlkR2j7"
      }
    },
    {
      "cell_type": "code",
      "source": [
        "def convert_list_of_strings_to_list_of_lists(list_of_strings):\n",
        "    return list(map(list, list_of_strings))\n",
        "\n",
        "# Ejemplo de lista de cadenas a convertir\n",
        "list_of_strings = ['hola', 'mundo', 'de', 'Python']\n",
        "\n",
        "# Convertimos la lista de cadenas a una lista de listas\n",
        "list_of_lists = convert_list_of_strings_to_list_of_lists(list_of_strings)\n",
        "print(\"La lista de listas resultante es:\")\n",
        "print(list_of_lists)\n"
      ],
      "metadata": {
        "colab": {
          "base_uri": "https://localhost:8080/"
        },
        "id": "ADRZYooOR20r",
        "outputId": "2f1aaabb-71a9-4924-f291-7974540825b0"
      },
      "execution_count": 30,
      "outputs": [
        {
          "output_type": "stream",
          "name": "stdout",
          "text": [
            "La lista de listas resultante es:\n",
            "[['h', 'o', 'l', 'a'], ['m', 'u', 'n', 'd', 'o'], ['d', 'e'], ['P', 'y', 't', 'h', 'o', 'n']]\n"
          ]
        }
      ]
    },
    {
      "cell_type": "markdown",
      "source": [
        "**Para la 16:** Escriba un programa en Python para convertir una lista dada de tuplas en una lista de cadenas usando la función map.\n"
      ],
      "metadata": {
        "id": "9gy10zYVR2-b"
      }
    },
    {
      "cell_type": "code",
      "source": [
        "def convert_list_of_tuples_to_list_of_strings(list_of_tuples):\n",
        "    return list(map(lambda t: ''.join(map(str, t)), list_of_tuples))\n",
        "\n",
        "# Ejemplo de lista de tuplas a convertir\n",
        "list_of_tuples = [(1, 2), (3, 4), (5, 6)]\n",
        "\n",
        "# Convertimos la lista de tuplas a una lista de cadenas\n",
        "list_of_strings = convert_list_of_tuples_to_list_of_strings(list_of_tuples)\n",
        "print(\"La lista de cadenas resultante es:\")\n",
        "print(list_of_strings)\n"
      ],
      "metadata": {
        "colab": {
          "base_uri": "https://localhost:8080/"
        },
        "id": "FlGimPLpR3M2",
        "outputId": "29f947b2-35f5-44b1-855f-dc936ba050f8"
      },
      "execution_count": 31,
      "outputs": [
        {
          "output_type": "stream",
          "name": "stdout",
          "text": [
            "La lista de cadenas resultante es:\n",
            "['12', '34', '56']\n"
          ]
        }
      ]
    }
  ]
}