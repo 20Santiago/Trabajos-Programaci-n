{
  "nbformat": 4,
  "nbformat_minor": 0,
  "metadata": {
    "colab": {
      "provenance": []
    },
    "kernelspec": {
      "name": "python3",
      "display_name": "Python 3"
    },
    "language_info": {
      "name": "python"
    }
  },
  "cells": [
    {
      "cell_type": "markdown",
      "source": [
        "# Mi primer programa\n",
        "## Definición de objetos\n",
        "\n",
        "### A continuación para insertar código dentro del texto, se usa <>\n",
        "\n",
        "```\n",
        "# Tiene formato de código\n",
        "```\n",
        "\n"
      ],
      "metadata": {
        "id": "ax6rwCYJwLU1"
      }
    },
    {
      "cell_type": "code",
      "execution_count": null,
      "metadata": {
        "id": "u5ikfozUKBo_"
      },
      "outputs": [],
      "source": [
        "import math\n",
        "#se acceden a las funciones de los objetos con punto (.)\n",
        "#math lo toma como un objeto\n",
        "class Vector:\n",
        "  def __init__(self,Componente_x,Componente_y):\n",
        "    self.x = Componente_x\n",
        "    self.y = Componente_y\n",
        "    self.magnitud = (self.x**2 + self.y**2)**0.5\n",
        "    self.angulo = math.atan2()\n",
        "    #se definió la clase de objeto, y se nombraron la componente xy y magnitud\n",
        "    #self sirve para definir elementos propios\n",
        "  def __str__(self) :\n",
        "    respuesta = \"(\"+str(self.x)+\",\"+str(self.y)+\")\"\n",
        "    return(\"respuesta\")\n",
        "    #este __srt__ viene de cadena, y es lo que quiero que saque al imprimir\n",
        "    #sirve para que al print un vector, salga un vector y no algo raro\n",
        "  #los dos def primeros son metodos especiales, para hacer cosas interesantes\n",
        "  def suma(self, otra):\n",
        "    #se puede seguir definiendo, en este caso son los metodos del objeto\n",
        "    respuesta = Vector(self.x+otra.x,self.y+otra.y)\n",
        "    return(respuesta)\n",
        "  def escalar(self, otra):\n",
        "    return(self.x*otra.x+self.y*otra.y)\n",
        "  #los, como suma y escalar son metodos personalizados"
      ]
    },
    {
      "cell_type": "code",
      "source": [
        "import math\n",
        "#help(math)\n",
        "#se importó para definir el angulo del vector"
      ],
      "metadata": {
        "id": "xVIzGUcP88Jr"
      },
      "execution_count": null,
      "outputs": []
    },
    {
      "cell_type": "code",
      "source": [
        "var = str(\"1\"+\"2\")\n",
        "print(var)"
      ],
      "metadata": {
        "colab": {
          "base_uri": "https://localhost:8080/"
        },
        "id": "auEho90g1g4G",
        "outputId": "aa65cfaa-1cfc-4b56-dae3-dbdcbb2a772d"
      },
      "execution_count": null,
      "outputs": [
        {
          "output_type": "stream",
          "name": "stdout",
          "text": [
            "12\n"
          ]
        }
      ]
    },
    {
      "cell_type": "code",
      "source": [],
      "metadata": {
        "id": "FxoQdqy91wke"
      },
      "execution_count": null,
      "outputs": []
    },
    {
      "cell_type": "code",
      "source": [
        "#se definen vectores\n",
        "x_1 = float(input(\"ingrese coordenada X: \"))\n",
        "y_1 = float(input(\"ingrese coordenada Y: \"))\n",
        "\n",
        "x_2 = float(input(\"ingrese coordenada X: \"))\n",
        "y_2 = float(input(\"ingrese coordenada Y: \"))\n",
        "#float le va a aceptar decimales, eel int es para enteros\n",
        "\n",
        "vec_1=Vector(x_1, y_1)\n",
        "vec_1=Vector(x_2, y_2)\n",
        "print(\"Vector 1:\",vec_1)\n",
        "print(\"Vector 2:\",vec_2)\n",
        "\n",
        "vec_1 = Vector(1,2)\n",
        "vec_2 = Vector(3,4)\n",
        "vec_3 = vec_1.suma(vec_2)\n",
        "#no importa el orden en el cual estén los \"subcodigos\"\n",
        "#importa lo que se está ejecutanto, este sería lo quinto\n",
        "print(vec_3.x,vec_3.y)\n",
        "print(type(vec_3))\n",
        "#para saber que tipo de respuesta es se escribe type(larespuesta)\n",
        "print(vec_1.escalar(vec_2))"
      ],
      "metadata": {
        "id": "4zKVi9L7vSgp"
      },
      "execution_count": null,
      "outputs": []
    },
    {
      "cell_type": "code",
      "source": [
        "vec_1 = Vector(1,2)\n",
        "vec_2 = Vector(3,4)\n",
        "print(\"la componente en X es:\" ,vec_1.x)\n",
        "print(\"la componente en Y es:\" ,vec_1.y)\n",
        "print(\"aiudaaaaaaaaaaaaaaaaaaaaaaaaaa\")\n",
        "#Hay que tener en cuenta los espacios permitidos para \"romper frases\"\n"
      ],
      "metadata": {
        "id": "IPnkXiGvrC4I"
      },
      "execution_count": null,
      "outputs": []
    },
    {
      "cell_type": "code",
      "source": [
        "1+3-7\n",
        "#si se va a separar en dos renglones se una un \\"
      ],
      "metadata": {
        "id": "MGrjw21DuHQV"
      },
      "execution_count": null,
      "outputs": []
    },
    {
      "cell_type": "code",
      "source": [
        "print(12,13,\"algo\",113,end=' ')\n",
        "print(12,13,\"algo\",113,)\n",
        "#\\n sirve para saltar los espacios de linea"
      ],
      "metadata": {
        "id": "8gqVFXAhsT-z"
      },
      "execution_count": null,
      "outputs": []
    },
    {
      "cell_type": "markdown",
      "source": [
        
        "Hacer un programa sencillo como aplicación a física (ejemplo:\n",
        "ingrese la fuerza en tal,\n",
        "ingrese la fuerza en tanto"
      ],
      "metadata": {
        "id": "e32yiK32-LsT"
      }
    }
  ]
}
